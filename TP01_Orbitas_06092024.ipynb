{
  "cells": [
    {
      "cell_type": "markdown",
      "metadata": {
        "id": "view-in-github",
        "colab_type": "text"
      },
      "source": [
        "<a href=\"https://colab.research.google.com/github/cgpilapanta/gnss/blob/main/TP01_Orbitas_06092024.ipynb\" target=\"_parent\"><img src=\"https://colab.research.google.com/assets/colab-badge.svg\" alt=\"Open In Colab\"/></a>"
      ]
    },
    {
      "cell_type": "markdown",
      "metadata": {
        "id": "2f4wu7JG8Gug"
      },
      "source": [
        "# **CÁLCULO DAS COORDENADAS (WGS84) DE UM SATÉLITE GPS PARA UMA DETERMINADA ÉPOCA, EMPREGANDO OS DADOS DO ARQUIVO RINEX DE NAVEGAÇÃO**\n",
        "\n",
        "---\n",
        "\n",
        "*   Autor: Christian G. Pilapanta Amagua\n",
        "*   Data : Setembro de 2024\n",
        "*   Lotação: Departamento de Geomática - Universidade Federal do Paraná / Laboratorio de Geodésia Espacial e Hidrografia\n",
        "\n",
        "---\n",
        "\n",
        "### **A. Objetivo**\n",
        "\n",
        "Cálcular as coordenadas de um satélite GPS para uma determinada época, através da utilização das informações contidas no arquivo RINEX de Navegação (GPS) da Estação GNSS de Monitoramento Continuo [UFPR 41610M002](https://network.igs.org/UFPR00BRA).\n",
        "\n",
        "### **B. Dados**\n",
        "\n",
        "Para esta prática serão utilizados os dados provenientes dos arquivos RINEX de Navegação da Estação GNSS de Monitoramento Continuo [UFPR 41610M002](https://network.igs.org/UFPR00BRA) obtidos no [site oficial do Instituto Brasileiro de Geografía e Estadística - IBGE - Seção Downloads](https://www.ibge.gov.br/geociencias/downloads-geociencias.html).\n",
        "\n",
        "A data selecionada para este exemplo é o dia 01 de janeiro de 2020.\n",
        "\n",
        "### **C. Arquivo RINEX**\n",
        "\n",
        "[RINEX](https://www.igs.org/wg/rinex/) significa \"Receiver INdependent EXchange\". É um arquivo em formato de texto que visa **armazenar, de forma padronizada**, medidas/observaveis fornecidas pelos receptores GNSS (GPS, GLONASS, EGNOS, WAAS ou Galileo), além de dados meteorológicos e de navegação.\n",
        "\n",
        "Atualmente existem 2 versões principais do formato RINEX:\n",
        "\n",
        "1.   [Versão 2.11-A](https://files.igs.org/pub/data/format/Addendum-rinex211.pdf?_gl=1*1w9rv62*_ga*MTEzMTMwNzk3LjE3MjU0OTIxODQ.*_ga_Z5RH7R682C*MTcyNTQ5MjE4NC4xLjEuMTcyNTQ5MjQzOS4xOC4wLjA.&_ga=2.123245896.2133037626.1725492185-113130797.1725492184): Possui informações/observáveis sobre as constelações **GPS, GLONASS e Galileo**, além de dados meteorológicos e de navegação.\n",
        "\n",
        "2.   [Versão 3.05](https://files.igs.org/pub/data/format/rinex305.pdf?_gl=1*vi7vpe*_ga*MTEzMTMwNzk3LjE3MjU0OTIxODQ.*_ga_Z5RH7R682C*MTcyNTQ5MjE4NC4xLjEuMTcyNTQ5MjQxOC4zOS4wLjA.&_ga=2.123245896.2133037626.1725492185-113130797.1725492184): Possui informações/observáveis sobre as constelações **GPS, GLONASS, Galileo, BeiDou (Compass), QZSS e SBAS**, além de dados meteorológicos e de navegação. A estrutura do registro de dados mudou significativamente devido principalmente aos novos sinais.\n",
        "\n",
        "Para uma explicação detalhada e **interativa** das diferentes informações contidas em cada arquivo RINEX, recomenda-se visitar o site oficial do [gAGE: Research Group of Astronomy and Geomatics - Seção GNSS Format Descriptions](https://gage.upc.edu/en/learning-materials/library/gnss-format-descriptions) (informação em inglês).\n",
        "\n",
        "Na presente prática será utilizado o arquivo [RINEX de navegação da constelação GPS - Versão 2.11](https://server.gage.upc.edu/gLAB/HTML/GPS_Navigation_Rinex_v2.11.html) (Imagem demonstrativa na sequência).\n",
        "\n",
        "<img src=http://iili.io/dkVvkVR.md.png alt=\"Drawing\" style=\"width: 600px;\"/>\n",
        "\n",
        "---"
      ]
    },
    {
      "cell_type": "markdown",
      "metadata": {
        "id": "CFR5bTh5df9D"
      },
      "source": [
        "### **EXEMPLO 01: Cálculo das coordenadas do satélite utilizando os dados do arquivo RINEX de Navegação (GPS)**\n",
        "\n",
        "### I. Informações necessárias\n",
        "\n",
        "**I.0. Importação de módulos/bibliotecas Python**\n",
        "\n",
        "Útil/necessário para rodar de forma correta as diferentes funções/ferramentas matemáticas a serem empregadas no cálculo."
      ]
    },
    {
      "cell_type": "code",
      "execution_count": null,
      "metadata": {
        "id": "kutt7i62df9E"
      },
      "outputs": [],
      "source": [
        "import math\n",
        "import numpy as np\n",
        "import matplotlib.pyplot as plt\n",
        "\n",
        "from math import sqrt, atan2, sin, cos, pi"
      ]
    },
    {
      "cell_type": "markdown",
      "metadata": {
        "id": "QjMVDU5_df9H"
      },
      "source": [
        "**I.1. Dados de entrada (Elementos Keplerianos + Parâmetros físicos terrestres)**\n",
        "\n",
        "Em resumo...\n",
        "\n",
        "$$(a, e, i, \\Omega, \\omega, \\underbrace{T ; t}_{V}) \\Longrightarrow\\left(x, y, z, v_{x}, v_{y}, v_{z}\\right)$$\n",
        "\n",
        "<center><img src=https://iili.io/dkVgl5P.md.png width=\"800p\"></center>\n",
        "\n",
        "**Importante**\n",
        "\n",
        "- O satélite selecionado para este exemplo, foi o satélite GPS PRN 01.\n",
        "- Neste exercício não serão calculadas as velocidades do satélite ($v_{x}, v_{y}, v_{z}$).\n",
        "- Para a obtenção dos elementos keplerianos foi utilizado o arquivo RINEX de navegação [ufpr0011.20n](https://ufprbr0.sharepoint.com/:u:/s/2021-2-ga129-a/Ee8vhGpnwUtCtdwDtjGeQewBmpmML1ycfkKFmq9g9Lob-A?e=ra5GfQ) da estação [UFPR 41610M002](https://network.igs.org/UFPR00BRA).\n"
      ]
    },
    {
      "cell_type": "code",
      "execution_count": null,
      "metadata": {
        "id": "S25v8cFRdf9I"
      },
      "outputs": [],
      "source": [
        "## ----------- PARÂMETROS FÍSICOS -----------\n",
        "\n",
        "# Velocidade da luz no vácuo (m/s)\n",
        "c = 299792458\n",
        "\n",
        "# WGS-84 Constante gravitacional geocêntrica da Terra (incluindo atmosféra) - GM (m3/s2)\n",
        "xmu = 3.986004418e14\n",
        "\n",
        "# WGS-84 Velocidade de rotação da Terra (rad/s)\n",
        "om_e = 7.2921151467e-5\n",
        "\n",
        "\n",
        "## ----------- INFORMAÇÕES DA ÉPOCA -----------\n",
        "\n",
        "# Número (PRN) do satélite (Satellite PRN Number)\n",
        "SAT = 1\n",
        "\n",
        "## Época (Epoch)\n",
        "# Ano, mês, día, hora, minuto, segundo\n",
        "YY, MM, DD, HH, MM, SS = 20, 1, 1, 2, 0, 0\n",
        "\n",
        "## Época de referência para as efemérides (TOE: Time Of Ephemeris)\n",
        "toe = 0.000000000000e+00\n",
        "\n",
        "# Semana GPS (GPS Week Number to go with TOE)\n",
        "GPS_Week  = 2.193000000000e+03\n",
        "\n",
        "\n",
        "## ----------- ELEMENTOS KEPLERIANOS -----------\n",
        "\n",
        "## 1. Raiz quadrada do semieixo maior (Square root of the orbit semi major axis)\n",
        "a12 = 5.153671445847e+03\n",
        "\n",
        "## 2. Excentricidade (Eccentricity)\n",
        "e = 1.126142579596e-02\n",
        "\n",
        "## 3. Inclinação na época de referência (Initial Inclination)\n",
        "xIo = 9.864045952764e-01\n",
        "\n",
        "## 4. Anomalia média na época de referência (Mo angle)\n",
        "xMo = -8.592688379390e-02\n",
        "\n",
        "# 5. Ascenção reta do nodo ascendente (OMEGA Angle)\n",
        "Omgg = -1.408241833508e+00\n",
        "\n",
        "# 6. Argumento do perigeo (Omega Angle) IMPORTANTE: Diferente de \"OMEGA Angle\" no RINEX\n",
        "Omgp = 8.821663746619e-01\n",
        "\n",
        "\n",
        "## ----------- VARIAÇÕES/CORREÇÕES DOS ELEMENTOS KEPLERIANOS DEVIDO ÀS PERTURBAÇÕES -----------\n",
        "\n",
        "## Variação do movimento médio (Delta n)\n",
        "dn = 4.187317275715e-09\n",
        "\n",
        "# Variação da ascenção reta do nodo ascendente (OMEGA DOT - Angular velocity)\n",
        "Omgd = -8.337490147073e-09\n",
        "\n",
        "# Variação do ângulo de inclinação (Inclination Rate)\n",
        "xIDOT = -2.800116636097e-10\n",
        "\n",
        "## Correção da inclinação\n",
        "# Componente Seno (Inclination Correction Sinus Component)\n",
        "Cis = 1.620501279831e-07\n",
        "# Componente Cosseno (Inclination Correction Cosinus Component)\n",
        "Cic = -9.313225746155e-09\n",
        "\n",
        "## Correção do raio orbital\n",
        "# Componente Seno (Radius Correction Sinus Component)\n",
        "Crs = -7.768750000000e+01\n",
        "# Componente Cosseno (Radius Correction Cosinus Component)\n",
        "Crc = 3.635625000000e+02\n",
        "\n",
        "## Correção do argumento da latitude\n",
        "## Componente Seno (Latitude Correction Sinus Component)\n",
        "Cus = 1.383945345879e-06\n",
        "## Componente Cosseno (Latitude Correction Cosinus Component)\n",
        "Cuc = -3.956258296967e-06"
      ]
    },
    {
      "cell_type": "markdown",
      "metadata": {
        "id": "fjFLGxscdf9K"
      },
      "source": [
        "### II. Sequência de cálculo\n",
        "\n",
        "**II.0. Cálculo do tempo t em segundos.**\n",
        "\n",
        "Importante: No arquivo RINEX o ano é estabelecido só com 2 dígitos (98), pelo qual, é necessário obter o ano no formato padrão (1998) antes do cálculo do tempo t em segundos."
      ]
    },
    {
      "cell_type": "code",
      "execution_count": null,
      "metadata": {
        "colab": {
          "base_uri": "https://localhost:8080/"
        },
        "id": "Dkidz3N-df9K",
        "outputId": "d6c9664e-8721-42f9-d5de-fd28a0c96240"
      },
      "outputs": [
        {
          "output_type": "stream",
          "name": "stdout",
          "text": [
            "O tempo t em segundos é: 0\n"
          ]
        }
      ],
      "source": [
        "# Transformação do ano a 4 caracteres\n",
        "if YY < 100:\n",
        "  if YY < 80:\n",
        "    YY = YY + 2000\n",
        "  else:\n",
        "    YY = YY + 1900\n",
        "\n",
        "# Cálculo do dia GPS (1980 jan 6.0 => JD=2444244.5 => id_GPS=1.0))\n",
        "id_GPS = int(365.25 * (YY - 1)) + DD - 722835\n",
        "\n",
        "# Cálculo do día da semana\n",
        "idw = id_GPS%7    # % -> função módulo\n",
        "\n",
        "# Cálculo da semana GPS\n",
        "nw = (id_GPS - idw)/7\n",
        "\n",
        "# Cálculo dos segundos da semana\n",
        "sw = idw * 86400 + SS\n",
        "\n",
        "# Controle da semana GPS\n",
        "if nw != GPS_Week:\n",
        "    print(\"ERRO no cálculo da semana\")\n",
        "else:\n",
        "    # Resposta\n",
        "    print(\"O tempo t em segundos é:\", sw)"
      ]
    },
    {
      "cell_type": "markdown",
      "metadata": {
        "id": "NJQqOxQWdf9N"
      },
      "source": [
        "**II.1. Cálculo do tempo ($t_{k}$) desde a época de referência das efemérides ($t_{o e}$).**\n",
        "\n",
        "Importante: $t$ e $t_{o e}$ expressos em segundos dentro da semana GPS.\n",
        "\n",
        "$$t_{k}=t-t_{o e}$$\n",
        "\n",
        "- Se $t_{k}$ > 302400 seg, subtrair 604800 seg de $t_{k}$.\n",
        "- Se $t_{k}$ < −302400 seg, adicionar 604800 seg de $t_{k}$."
      ]
    },
    {
      "cell_type": "code",
      "execution_count": null,
      "metadata": {
        "colab": {
          "base_uri": "https://localhost:8080/"
        },
        "id": "uqRvCYkZdf9O",
        "outputId": "ced1639a-5a45-45ad-85d9-05da340dfc1b"
      },
      "outputs": [
        {
          "output_type": "stream",
          "name": "stdout",
          "text": [
            "O tempo tk em segundos é: 0.0\n"
          ]
        }
      ],
      "source": [
        "# Cálculo do Tempo desde a época da efeméride atual\n",
        "tk = sw - toe\n",
        "\n",
        "if tk > 302400:\n",
        "    tk = tk - 604800\n",
        "elif tk < -302400:\n",
        "    tk = tk + 604800\n",
        "\n",
        "# Controle da idade dos dados orbitais\n",
        "if tk > 7200:\n",
        "    print(\"ADVERTENCIA. tk = \" + str(tk) + \"> 7200 segundos\")\n",
        "\n",
        "# Resposta\n",
        "print(\"O tempo tk em segundos é:\", tk)"
      ]
    },
    {
      "cell_type": "markdown",
      "metadata": {
        "id": "MgkBgi3bdf9P"
      },
      "source": [
        "**II.2. Cálculo da anomalia média $M_{k}$ para $t_{k}$.**\n",
        "\n",
        "$$M_{k}=M_{o}+\\left(\\frac{\\sqrt{\\mu}}{\\sqrt{a^{3}}}+\\Delta n\\right) t_{k}$$"
      ]
    },
    {
      "cell_type": "code",
      "execution_count": null,
      "metadata": {
        "colab": {
          "base_uri": "https://localhost:8080/"
        },
        "id": "M58-6UArdf9Q",
        "outputId": "4af300a2-fd28-4b19-d083-69dd93b77f7f"
      },
      "outputs": [
        {
          "output_type": "stream",
          "name": "stdout",
          "text": [
            "A anomalia média Mk é: -0.0859268837939\n"
          ]
        }
      ],
      "source": [
        "# Cálculo da anomalia média\n",
        "xMk = xMo + (sqrt(xmu)/(a12**3)+dn)*tk\n",
        "\n",
        "# Resposta\n",
        "print(\"A anomalia média Mk é:\", xMk)"
      ]
    },
    {
      "cell_type": "markdown",
      "metadata": {
        "id": "05eAcSKtdf9R"
      },
      "source": [
        "**II.3. Cálculo da anomalia excêntrica $E_{k}$ (Resolução iterativa da Equação de Kepler).**\n",
        "\n",
        "Resolução de acordo com [Murison, M. A. (2006). A practical method for solving the Kepler equation. US Naval Observatory, Washington, DC.)](http://alpheratz.net/dynamics/twobody/KeplerIterations_summary.pdf)\n",
        "\n",
        "$$M_{k}=E_{k}-e \\sin E_{k}$$"
      ]
    },
    {
      "cell_type": "code",
      "execution_count": null,
      "metadata": {
        "id": "WyVVq8CIj7Al",
        "colab": {
          "base_uri": "https://localhost:8080/"
        },
        "outputId": "62fb4942-6036-49db-f227-9ce8e427de47"
      },
      "outputs": [
        {
          "output_type": "stream",
          "name": "stdout",
          "text": [
            "A anomalia excêntrica Ek é: 6.196280988255456\n"
          ]
        }
      ],
      "source": [
        "# Função para resolver a Equação de Kepler\n",
        "def KeplerStart3(e, M):\n",
        "  t34 = e**2\n",
        "  t35 = e * t34\n",
        "  t33 = cos(M)\n",
        "\n",
        "  return M + (-1/2 * t35 + e + (t34 + 3/2 * t33 * t35) * t33) * sin(M)\n",
        "\n",
        "def eps3(e,M,x):\n",
        "  t1 = cos(x)\n",
        "  t2 = -1 + e * t1\n",
        "  t3 = sin(x)\n",
        "  t4 = e * t3\n",
        "  t5 = - x + t4 + M\n",
        "  t6 = t5 / (1/2 * t5 * t4 / t2 + t2)\n",
        "\n",
        "  return t5 / ((1/2 * t3 - 1/6 * t1 * t6) * e * t6 + t2)\n",
        "\n",
        "def KeplerSolve(e, M, tol = 1.0e-14):\n",
        "\n",
        "  Mnorm = M % (2 * pi)\n",
        "  E0    = KeplerStart3(e, Mnorm)\n",
        "  dE    = tol + 1\n",
        "  count = 0\n",
        "\n",
        "  while dE > tol:\n",
        "    E   = E0 - eps3(e, Mnorm, E0);\n",
        "    dE  = abs(E-E0)\n",
        "    E0  = E\n",
        "    count = count + 1\n",
        "    if count == 100:\n",
        "      print(\"Astounding! KeplerSolve failed to converge!\")\n",
        "      break\n",
        "\n",
        "  return E\n",
        "\n",
        "# Cálculo da anomalía excéntrica\n",
        "Ek2 = KeplerSolve(e, xMk)\n",
        "\n",
        "# Resposta\n",
        "print(\"A anomalia excêntrica Ek é:\", Ek2)"
      ]
    },
    {
      "cell_type": "markdown",
      "metadata": {
        "id": "kGh1LvySdf9T"
      },
      "source": [
        "**II.4. Cálculo da anomalia verdadeira $v_{k}$.**\n",
        "\n",
        "$$v_{k}=\\arctan \\left(\\frac{\\sqrt{1-e^{2}} \\sin E_{k}}{\\cos E_{k}-e}\\right)$$"
      ]
    },
    {
      "cell_type": "code",
      "execution_count": null,
      "metadata": {
        "colab": {
          "base_uri": "https://localhost:8080/"
        },
        "id": "gxiL3e99JQoh",
        "outputId": "20d89a62-80bd-4fe4-bec4-42cad8c73081"
      },
      "outputs": [
        {
          "output_type": "stream",
          "name": "stdout",
          "text": [
            "A anomalia verdadeira vk é: -0.08788729913375518\n"
          ]
        }
      ],
      "source": [
        "# Cálculo da anomalia verdadeira\n",
        "Fk = atan2(sqrt(1 - e**2) * sin(Ek2), cos(Ek2) - e)\n",
        "\n",
        "# Resposta\n",
        "print(\"A anomalia verdadeira vk é:\", Fk)"
      ]
    },
    {
      "cell_type": "markdown",
      "metadata": {
        "id": "n4Zj_IIFdf9U"
      },
      "source": [
        "**II.5. Cálculo do argumento da latitude $u_{k}$ a partir do argumento do perigeu $\\omega$, a anomalia verdadeira $v_{k}$ e as correções $c_{u c}$ e $c_{u s}$.**\n",
        "\n",
        "$$u_{k}=\\omega+v_{k}+c_{u c} \\cos 2\\left(\\omega+v_{k}\\right)+c_{u s} \\sin 2\\left(\\omega+v_{k}\\right)$$"
      ]
    },
    {
      "cell_type": "code",
      "execution_count": null,
      "metadata": {
        "id": "5YErjJaggRAD",
        "colab": {
          "base_uri": "https://localhost:8080/"
        },
        "outputId": "71a23669-8627-4120-fd94-79159bf2687b"
      },
      "outputs": [
        {
          "output_type": "stream",
          "name": "stdout",
          "text": [
            "O argumento da latitude uk é: 0.794280529521861\n"
          ]
        }
      ],
      "source": [
        "# Cálculo do argumento da latitude\n",
        "uk = Omgp + Fk + Cuc * cos(2 * (Omgp + Fk)) + Cus * sin(2 * (Omgp + Fk))\n",
        "\n",
        "# Resposta\n",
        "print(\"O argumento da latitude uk é:\", uk)"
      ]
    },
    {
      "cell_type": "markdown",
      "metadata": {
        "id": "WmTaY84Vdf9V"
      },
      "source": [
        "**II.6. Cálculo da distância radial $r_{k}$, considerando as correções $c_{r c}$ y $c_{r s}$.**\n",
        "\n",
        "$$r_{k}=a\\left(1-e \\cos E_{k}\\right)+c_{r c} \\cos 2\\left(\\omega+v_{k}\\right)+c_{r s} \\sin 2\\left(\\omega+v_{k}\\right)$$"
      ]
    },
    {
      "cell_type": "code",
      "execution_count": null,
      "metadata": {
        "id": "h_vqWLOFg3_W",
        "colab": {
          "base_uri": "https://localhost:8080/"
        },
        "outputId": "27bd8dc4-0ebd-4626-9b69-12919bdb4de1"
      },
      "outputs": [
        {
          "output_type": "stream",
          "name": "stdout",
          "text": [
            "A distância radial rk é: 26262266.832928564\n"
          ]
        }
      ],
      "source": [
        "# Cálculo da distância radial\n",
        "rk = (a12**2) * (1 - e * cos(Ek2)) + Crc * cos(2 * (Omgp + Fk)) + Crs * sin(2 * (Omgp + Fk))\n",
        "\n",
        "# Resposta\n",
        "print(\"A distância radial rk é:\", rk)"
      ]
    },
    {
      "cell_type": "markdown",
      "metadata": {
        "id": "GE2iqjxrdf9W"
      },
      "source": [
        "**II.7. Cálculo da inclinação $i_{k}$ do plano orbital, a partir da inclinação $i_{o}$ na época de referência $t_{o e}$, e as correções $c_{i c}$ e $c_{i s}$.**\n",
        "\n",
        "$$i_{k}=i_{o}+\\dot{i} t_{k}+c_{i c} \\cos 2\\left(\\omega+v_{k}\\right)+c_{i s} \\sin 2\\left(\\omega+v_{k}\\right)$$"
      ]
    },
    {
      "cell_type": "code",
      "execution_count": null,
      "metadata": {
        "id": "nDVXQryVhGwh",
        "colab": {
          "base_uri": "https://localhost:8080/"
        },
        "outputId": "2fb90987-95a8-44f7-acd0-f643dde684cf"
      },
      "outputs": [
        {
          "output_type": "stream",
          "name": "stdout",
          "text": [
            "A inclinação ik do plano orbital é: 0.9864047574663778\n"
          ]
        }
      ],
      "source": [
        "# Cálculo da inclinação do plano orbital\n",
        "xIk = xIo + xIDOT * tk + Cic * cos(2 * (Omgp + Fk)) + Cis * sin(2 * (Omgp + Fk))\n",
        "\n",
        "# Resposta\n",
        "print(\"A inclinação ik do plano orbital é:\", xIk)"
      ]
    },
    {
      "cell_type": "markdown",
      "metadata": {
        "id": "Eo-ZtS75df9X"
      },
      "source": [
        "**II.8. Cálculo da longitude do nodo ascendente $\\Omega_{k}$ (em relação a Greenwich) a partir da longitude $\\Omega_{o}$ obtida no ínicio da semana GPS.**\n",
        "\n",
        "Importante:\n",
        "- Foi corregida a variação da hora sideral aparente em Greenwich entre o início da semana e o tempo de referência $t_{k}=t-t_{o e}$.\n",
        "- Foi corregida a mudança na longitude do nodo ascendente desde o tempo de referência $t_{o e}$.\n",
        "\n",
        "$$\\Omega_{k}=\\Omega_{o}+\\left(\\dot{\\Omega}-\\omega_{E}\\right) t_{k}-\\omega_{E} t_{o e}$$"
      ]
    },
    {
      "cell_type": "code",
      "execution_count": null,
      "metadata": {
        "id": "83uupF9Ih6QH",
        "colab": {
          "base_uri": "https://localhost:8080/"
        },
        "outputId": "70b25a8f-3e21-4ee4-faf7-7e10a8db53df"
      },
      "outputs": [
        {
          "output_type": "stream",
          "name": "stdout",
          "text": [
            "A longitude do nodo ascendente é: -1.408241833508\n"
          ]
        }
      ],
      "source": [
        "# Longitude do nodo ascendente\n",
        "xlmk = Omgg + (Omgd - om_e) * tk - om_e * toe\n",
        "\n",
        "# Resposta\n",
        "print(\"A longitude do nodo ascendente é:\", xlmk)"
      ]
    },
    {
      "cell_type": "markdown",
      "metadata": {
        "id": "9zOtqEE_df9Z"
      },
      "source": [
        "**II.9. Cálculo das coordenadas no sistema CTS, aplicando três rotações (ao redor de $u_{k}$, $i_{k}$ e $\\Omega_{k}$)**\n",
        "\n",
        "$$\\left[\\begin{array}{c}\n",
        "X_{k} \\\\\n",
        "Y_{k} \\\\\n",
        "Z_{k}\n",
        "\\end{array}\\right]=\\mathbf{R}_{3}\\left(-\\Omega_{k}\\right) \\mathbf{R}_{1}\\left(-i_{k}\\right) \\mathbf{R}_{3}\\left(-u_{k}\\right)\\left[\\begin{array}{c}\n",
        "r_{k} \\\\\n",
        "0 \\\\\n",
        "0\n",
        "\\end{array}\\right]$$\n",
        "\n",
        "onde:\n",
        "\n",
        "$$\\begin{aligned}\n",
        "R_{3}(-\\Omega) R_{1}(-i) R_{3}(-u)=\\left(\\begin{array}{ccc}\n",
        "\\cos \\Omega & -\\sin \\Omega & 0 \\\\\n",
        "\\sin \\Omega & \\cos \\Omega & 0 \\\\\n",
        "0 & 0 & 1\n",
        "\\end{array}\\right)\\left(\\begin{array}{ccc}\n",
        "1 & 0 & 0 \\\\\n",
        "0 & \\cos i & -\\sin i \\\\\n",
        "0 & \\sin i & \\cos i\n",
        "\\end{array}\\right)\\left(\\begin{array}{ccc}\n",
        "\\cos u & -\\sin u & 0 \\\\\n",
        "\\sin u & \\cos u & 0 \\\\\n",
        "0 & 0 & 1\n",
        "\\end{array}\\right)\n",
        "\\end{aligned}$$"
      ]
    },
    {
      "cell_type": "code",
      "execution_count": null,
      "metadata": {
        "colab": {
          "base_uri": "https://localhost:8080/"
        },
        "id": "6Lw6pTJriQ57",
        "outputId": "6672452c-4d7d-4245-ab9b-7984f79de921"
      },
      "outputs": [
        {
          "output_type": "stream",
          "name": "stdout",
          "text": [
            "A posição no plano orbital é: XP = 18404549.023444 m e YP = 18734439.795403 m\n"
          ]
        }
      ],
      "source": [
        "# Cálculo da posição no plano orbital\n",
        "xp = rk * cos(uk)\n",
        "yp = rk * sin(uk)\n",
        "\n",
        "# Coordenadas no sistema CTS\n",
        "x = xp * cos(xlmk) - yp * cos(xIk) * sin(xlmk)\n",
        "y = xp * sin(xlmk) + yp * cos(xIk) * cos(xlmk)\n",
        "z = yp * sin(xIk)\n",
        "\n",
        "# Resposta\n",
        "print(\"A posição no plano orbital é: XP =\", str(\"{:.6f}\".format(xp)), \"m e YP =\", str(\"{:.6f}\".format(yp)), \"m\")"
      ]
    },
    {
      "cell_type": "markdown",
      "metadata": {
        "id": "Vfbg7pkSdf9d"
      },
      "source": [
        "### III. Resultados\n",
        "\n",
        "**III.1. Coordenadas cartesianas (WGS84) do satélite GPS selecionado no sistema CTS**"
      ]
    },
    {
      "cell_type": "code",
      "execution_count": null,
      "metadata": {
        "colab": {
          "base_uri": "https://localhost:8080/"
        },
        "id": "MPeGrqLvdf9d",
        "outputId": "6518905e-88f3-45bc-c4aa-f2fac98d1c83"
      },
      "outputs": [
        {
          "output_type": "stream",
          "name": "stdout",
          "text": [
            "As coordenadas do sátelite GPS número 1 no sistema CTS:\n",
            "\n",
            "Coordenada X =   13177971.063358 m\n",
            "Coordenada Y =  -16489207.941526 m\n",
            "Coordenada Z =   15625420.292535 m\n"
          ]
        }
      ],
      "source": [
        "# Resposta\n",
        "print(\"As coordenadas do sátelite GPS número\", SAT, \"no sistema CTS:\\n\")\n",
        "print(\"Coordenada X = \", str(\"{:.6f}\".format(x)).rjust(16), \"m\")\n",
        "print(\"Coordenada Y = \", str(\"{:.6f}\".format(y)).rjust(16), \"m\")\n",
        "print(\"Coordenada Z = \", str(\"{:.6f}\".format(z)).rjust(16), \"m\")"
      ]
    },
    {
      "cell_type": "markdown",
      "metadata": {
        "id": "oAREAKFQdf9e"
      },
      "source": [
        "**III.2. Distância geocêntrica da órbita (Raio da órbita)**"
      ]
    },
    {
      "cell_type": "code",
      "execution_count": null,
      "metadata": {
        "scrolled": true,
        "id": "Zp2R-nLndf9e",
        "outputId": "1da2b052-7cc7-4ecd-8f27-8bae9bc96f78"
      },
      "outputs": [
        {
          "name": "stdout",
          "output_type": "stream",
          "text": [
            "A distância do satélite GPS número 1 desde o geocêntro é: 26540.9766 km\n"
          ]
        }
      ],
      "source": [
        "# Cálculo da magnitude do vetor\n",
        "raio = (sqrt(x**2 + y**2 + z**2))/1000\n",
        "\n",
        "#Resposta\n",
        "print(\"A distância do satélite GPS número\", SAT, \"desde o geocêntro é:\", str(\"{:.4f}\".format(raio)), \"km\")"
      ]
    },
    {
      "cell_type": "markdown",
      "metadata": {
        "id": "ZLox0miEdf9f"
      },
      "source": [
        "**III.3. Variação da distância geocêntrica da órbita**\n",
        "\n",
        "**III.3.1. Utilizando o arquivo RINEX de navegação (GPS) [ufpr0011.20n](https://ufprbr0.sharepoint.com/:u:/s/2021-2-ga129-a/Ee8vhGpnwUtCtdwDtjGeQewBmpmML1ycfkKFmq9g9Lob-A?e=ra5GfQ) da estação [UFPR 41610M002](https://network.igs.org/UFPR00BRA).**"
      ]
    },
    {
      "cell_type": "code",
      "execution_count": null,
      "metadata": {
        "id": "CUp3HOZZdf9g",
        "outputId": "e41d998d-f2a3-42ef-a2bf-f7bfd86b12f0"
      },
      "outputs": [
        {
          "data": {
            "image/png": "[encoded data removed]",
            "text/plain": [
              "<Figure size 864x432 with 1 Axes>"
            ]
          },
          "metadata": {
            "needs_background": "light"
          },
          "output_type": "display_data"
        }
      ],
      "source": [
        "## Coordenadas cartesianas + raio. Época 01\n",
        "X01, Y01, Z01 = 9888347.573742, -19617636.877671, -14892694.372604\n",
        "r01 = (sqrt(X01**2 + Y01**2 + Z01**2))/1000\n",
        "\n",
        "## Coordenadas cartesianas + raio. Época 02\n",
        "X02, Y02, Z02 = 9888355.432782, -19617641.576126, -14892711.816896\n",
        "r02 = (sqrt(X02**2 + Y02**2 + Z02**2))/1000\n",
        "\n",
        "## Coordenadas cartesianas + raio. Época 03\n",
        "X03, Y03, Z03 = 9888253.203312, -19617684.944178, -14892693.483931\n",
        "r03 = (sqrt(X03**2 + Y03**2 + Z03**2))/1000\n",
        "\n",
        "## Coordenadas cartesianas + raio. Época 04\n",
        "X04, Y04, Z04 = 9888004.283124, -19617694.270609, -14892734.056377\n",
        "r04 = (sqrt(X04**2 + Y04**2 + Z04**2))/1000\n",
        "\n",
        "## Coordenadas cartesianas + raio. Época 05\n",
        "X05, Y05, Z05 = 9887954.103478, -19617718.493936, -14892734.911876\n",
        "r05 = (sqrt(X05**2 + Y05**2 + Z05**2))/1000\n",
        "\n",
        "## Coordenadas cartesianas + raio. Época 06\n",
        "X06, Y06, Z06 = 9888022.375171, -19617684.395383, -14892734.117946\n",
        "r06 = (sqrt(X06**2 + Y06**2 + Z06**2))/1000\n",
        "\n",
        "## Coordenadas cartesianas + raio. Época 07\n",
        "X07, Y07, Z07 = 9958983.865842, -19659402.248294, -14787271.082219\n",
        "r07 = (sqrt(X07**2 + Y07**2 + Z07**2))/1000\n",
        "\n",
        "## Coordenadas cartesianas + raio. Época 08\n",
        "X08, Y08, Z08 = 9888527.898813, -19617584.756042, -14892554.340552\n",
        "r08 = (sqrt(X08**2 + Y08**2 + Z08**2))/1000\n",
        "\n",
        "## Coordenadas cartesianas + raio. Época 09\n",
        "X09, Y09, Z09 = 9888494.725260, -19617704.349224, -14892422.425824\n",
        "r09 = (sqrt(X09**2 + Y09**2 + Z09**2))/1000\n",
        "\n",
        "## Coordenadas cartesianas + raio. Época 10\n",
        "X10, Y10, Z10 = 9887915.843089, -19617826.717165, -14892534.936879\n",
        "r10 = (sqrt(X10**2 + Y10**2 + Z10**2))/1000\n",
        "\n",
        "## Coordenadas cartesianas + raio. Época 11\n",
        "X11, Y11, Z11 = 9887832.037414, -19617850.006433, -14892557.975984\n",
        "r11 = (sqrt(X11**2 + Y11**2 + Z11**2))/1000\n",
        "\n",
        "## Coordenadas cartesianas + raio. Época 12\n",
        "X12, Y12, Z12 = 10280010.206016, -19848943.832260, -14293074.448742\n",
        "r12 = (sqrt(X12**2 + Y12**2 + Z12**2))/1000\n",
        "\n",
        "## Banco de Dados\n",
        "t = (2*3600, 4*3600, 6*3600, 8*3600, 10*3600, 12*3600, 14*3600, 16*3600, 18*3600, 20*3600, 22*3600, 24*3600)\n",
        "s = (r01, r02, r03, r04, r05, r06, r07, r08, r09, r10, r11, r12)\n",
        "\n",
        "# Geração da figura\n",
        "\n",
        "fig, ax = plt.subplots(figsize=(12, 6))\n",
        "ax.plot(t, s)\n",
        "\n",
        "ax.set(xlabel='Época (horas)', ylabel='Distância (km)', title='Distância geocêntrica do satélite')\n",
        "ax.grid()\n",
        "\n",
        "plt.xticks(t)\n",
        "plt.show()"
      ]
    },
    {
      "cell_type": "markdown",
      "metadata": {
        "id": "POOYHd6mdf9h"
      },
      "source": [
        "**III.3.1. Utilizando o arquivo de Efemérides Precisas [igs20863.sp3](https://ufprbr0.sharepoint.com/:u:/s/2021-2-ga129-a/Eb9ZKr6iUxdBknIaafgAyo8BrtE1JsD1AcVqqzyeT_dV6g?e=lOH5uC) (Para maior informação ver: [CDDIS Data and Products - Orbit Products](https://cddis.nasa.gov/Data_and_Derived_Products/GNSS/orbit_products.html)).**\n",
        "\n",
        "Para o cálculo da distância geométrica foi utilizada a plataforma [GNSS-Lab Tool (gLAB)](https://gage.upc.edu/en/learning-materials/software-tools/glab-tool-suite)\n",
        "\n",
        "<center><img src=https://iili.io/dvu1T0P.md.png width=\"500p\"></center>\n",
        "\n",
        "**III.4. Trajetória da órbita**\n",
        "\n",
        "Para o cálculo da trejetória orbital foi utilizada a plataforma [GNSS-Lab Tool (gLAB)](https://gage.upc.edu/en/learning-materials/software-tools/glab-tool-suite)\n",
        "\n",
        "<center><img src=https://i.ibb.co/31JMDkn/p31-tp2.png width=\"500p\"></center>\n",
        "\n",
        "\n",
        "---"
      ]
    },
    {
      "cell_type": "markdown",
      "metadata": {
        "id": "ayDgHxXEdf9h"
      },
      "source": [
        "## **EXERCÍCIO PROPOSTO**\n",
        "\n",
        "**PERGUNTA 1**\n",
        "\n",
        "**Calcular as coordenadas cartesianas (WGS84) para o satélite GPS PRN03 utilizando o arquivo RINEX de navegação da estação [UFPR 41610M002](https://www.igs.org/imaps/station.php?id=UFPR00BRA) (Ano 2024 - Dia GPS individual por aluno - Ver Tabela em anexo - repositorio).**\n",
        "\n",
        "**IMPORTANTE: Utilizar as 10 primeiras épocas disponíveis e apresentar as coordenadas cálculadas em uma Tabela.**\n",
        "\n",
        "**PERGUNTA 2**\n",
        "\n",
        "Qual é a variação observada na distância geocêntrica da órbita do satélite selecionado? (Calcular a variação relativa $\\left(r_{\\max }-r_{\\min }\\right) / r_{\\min } \\times 100$).\n",
        "\n",
        "\n",
        "**PERGUNTA 3**\n",
        "\n",
        "2.1. Calcular o periodo orbital do satélite selecionado (utilizar o semieixo maior $a$).\n",
        "\n",
        "$$T=2 \\pi \\sqrt{\\frac{a^{3}}{G M}}$$\n",
        "\n",
        "2.2. O satélite GLONASS orbita a Terra com uma altitude aproximada de 19.100 km. Quál é o seu periodo orbital? (apresentar o cálculo de forma detalhada)\n",
        "\n",
        "**PERGUNTA 4**\n",
        "\n",
        "Qual é o impacto do erro da órbita no posicionamento GPS? Para responder isto, existe uma regra prática (não ideal, mas útil) desenvolvida por Baueršíma (1983). Esta estabelece que:\n",
        "\n",
        "Seja $l$ o comprimento da linha de base (km), $d$ a distância geocêntrica = 25000 (km) e $\\Delta X$ o erro da órbita (m); o erro na linha de base $\\Delta x$ pode ser calculado através da relação:\n",
        "\n",
        "$$\\Delta x(\\mathrm{m}) \\approx \\frac{l(\\mathrm{km})}{25000(\\mathrm{km})} \\cdot \\Delta X(\\mathrm{m})$$\n",
        "\n",
        "Pede-se completar a Tabela:\n",
        "\n",
        "<center><img src=https://iili.io/dvuhpPj.md.png alt=\"Drawing\" style=\"width: 500px;\"/></center>\n",
        "\n",
        "**PERGUNTA 5**\n",
        "\n",
        "Compare os arquivos:\n",
        "\n",
        "- RINEX de Navegação ([ufpr3600.21n](https://ufprbr0.sharepoint.com/:u:/s/2021-2-ga129-a/EecSOr4DddBLrTk7WnE2lrIBTxIQOlI_HWZXkvFI2aeodA?e=GP4OGS)) (Maior informação sobre o arquivo - [clique aqui](https://gage.upc.edu/sites/default/files/gLAB/HTML/GPS_Navigation_Rinex_v2.11.html))\n",
        "- Broadcast GPS ([brdc3600.21n](https://ufprbr0.sharepoint.com/:u:/s/2021-2-ga129-a/EdpSw_UNyyBLjH3AiI-WYdoBFEXzmhNoqTmqFP-JBxSxuA?e=gZFhhs)) (Maior informação sobre o arquivo - [clique aqui](https://gage.upc.edu/sites/default/files/gLAB/HTML/GPS_Navigation_Rinex_v2.11.html))\n",
        "- Efeméride Precisa ([igs21900.sp3](https://ufprbr0.sharepoint.com/:u:/s/2021-2-ga129-a/Efm_7c7BZvlDqQSSWq1c6NYBiKJcMkJv4wiDbrkvT0qS4w?e=UD7NaY)) (Maior informação sobre o arquivo - [clique aqui](https://gage.upc.edu/sites/default/files/gLAB/HTML/SP3_Version_C.html))\n",
        "\n",
        "5.1. Quál é a diferença principal entre cada arquivo?\n",
        "\n",
        "5.2. Indique o intervalo de tempo das observações adquiridas pelo satélite em cada um dos arquivos.\n",
        "\n",
        "5.2. Se vocês realizam um posicionamento de um ponto com intervalo de gravação dos dados igual a 30 segundos e utilizam o arquivo de efemérides precisas SP3 visando obter a informação dos satélites, o que vocês fariam em relação a diferença entre os intervalos de gravação dos dados? Escolha uma opção e justifique sua resposta.\n",
        "\n",
        "- Passar os dados do posicionamento (30 segundos) ao intervalo das efemérides precisas?\n",
        "- Passar os dados das órbitas ao intervalo de gravação dos dados no ponto?"
      ]
    }
  ],
  "metadata": {
    "colab": {
      "provenance": [],
      "include_colab_link": true
    },
    "kernelspec": {
      "display_name": "Python 3",
      "language": "python",
      "name": "python3"
    },
    "language_info": {
      "codemirror_mode": {
        "name": "ipython",
        "version": 3
      },
      "file_extension": ".py",
      "mimetype": "text/x-python",
      "name": "python",
      "nbconvert_exporter": "python",
      "pygments_lexer": "ipython3",
      "version": "3.8.8"
    }
  },
  "nbformat": 4,
  "nbformat_minor": 0
}